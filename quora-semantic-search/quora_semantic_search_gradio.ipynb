{
 "cells": [
  {
   "cell_type": "code",
   "execution_count": 14,
   "metadata": {},
   "outputs": [],
   "source": [
    "import warnings\n",
    "warnings.filterwarnings('ignore')"
   ]
  },
  {
   "cell_type": "code",
   "execution_count": null,
   "metadata": {},
   "outputs": [],
   "source": [
    "%%writefile requirments.txt\n",
    "datasets\n",
    "gradio\n",
    "qdrant-client\n",
    "sentence-transformers"
   ]
  },
  {
   "cell_type": "code",
   "execution_count": null,
   "metadata": {},
   "outputs": [],
   "source": [
    "!echo \"Requirments Are:\" && cat requirments.txt && echo \"-----\"\n",
    "\n",
    "!pip install -r requirments.txt"
   ]
  },
  {
   "cell_type": "code",
   "execution_count": 18,
   "metadata": {},
   "outputs": [
    {
     "ename": "ImportError",
     "evalue": "cannot import name 'build_binary_quantized_index' from 'build_quora_index' (/workspaces/learn-search-relevance/quora-semantic-search/build_quora_index.py)",
     "output_type": "error",
     "traceback": [
      "\u001b[0;31m---------------------------------------------------------------------------\u001b[0m",
      "\u001b[0;31mImportError\u001b[0m                               Traceback (most recent call last)",
      "Cell \u001b[0;32mIn[18], line 1\u001b[0m\n\u001b[0;32m----> 1\u001b[0m \u001b[38;5;28;01mfrom\u001b[39;00m \u001b[38;5;21;01mbuild_quora_index\u001b[39;00m \u001b[38;5;28;01mimport\u001b[39;00m build_index, build_binary_quantized_index\n",
      "\u001b[0;31mImportError\u001b[0m: cannot import name 'build_binary_quantized_index' from 'build_quora_index' (/workspaces/learn-search-relevance/quora-semantic-search/build_quora_index.py)"
     ]
    }
   ],
   "source": [
    "from build_quora_index import build_index, build_binary_quantized_index"
   ]
  },
  {
   "cell_type": "code",
   "execution_count": 19,
   "metadata": {},
   "outputs": [
    {
     "name": "stdout",
     "output_type": "stream",
     "text": [
      "The gradio extension is already loaded. To reload it, use:\n",
      "  %reload_ext gradio\n"
     ]
    }
   ],
   "source": [
    "%load_ext gradio"
   ]
  },
  {
   "cell_type": "code",
   "execution_count": 21,
   "metadata": {},
   "outputs": [
    {
     "name": "stdout",
     "output_type": "stream",
     "text": [
      "Running on local URL:  http://127.0.0.1:7865\n",
      "Running on public URL: https://4e694542dd3415cf96.gradio.live\n",
      "\n",
      "This share link expires in 72 hours. For free permanent hosting and GPU upgrades, run `gradio deploy` from Terminal to deploy to Spaces (https://huggingface.co/spaces)\n"
     ]
    },
    {
     "data": {
      "text/html": [
       "<div><iframe src=\"https://4e694542dd3415cf96.gradio.live\" width=\"100%\" height=\"500\" allow=\"autoplay; camera; microphone; clipboard-read; clipboard-write;\" frameborder=\"0\" allowfullscreen></iframe></div>"
      ],
      "text/plain": [
       "<IPython.core.display.HTML object>"
      ]
     },
     "metadata": {},
     "output_type": "display_data"
    },
    {
     "data": {
      "text/plain": []
     },
     "execution_count": 21,
     "metadata": {},
     "output_type": "execute_result"
    }
   ],
   "source": [
    "import gradio as gr\n",
    "import os\n",
    "import time\n",
    "\n",
    "from sentence_transformers import SentenceTransformer\n",
    "from qdrant_client import QdrantClient, models\n",
    "\n",
    "\n",
    "qdrant = QdrantClient(':memory:') # create in-mem instance of vector db\n",
    "# qdrant = QdrantClient(\n",
    "#     url=os.environ['QDRANT_URL'],\n",
    "#     api_key=os.environ['QDRANT_API_KEY'],\n",
    "# )\n",
    "encoder = SentenceTransformer(model_name_or_path='BAAI/bge-small-en-v1.5')\n",
    "\n",
    "\n",
    "def compute_embedding(sentences, emb_model):\n",
    "  return emb_model.encode(sentences=sentences)\n",
    "\n",
    "\n",
    "def quantized_vector_search(embedding, top_k=5):\n",
    "  return qdrant.search(\n",
    "    collection_name='questions-binaryq',\n",
    "    query_vector=embedding,\n",
    "    limit=top_k,\n",
    "    with_payload=True,\n",
    "    search_params=models.SearchParams(\n",
    "      exact=False,\n",
    "      quantization=models.QuantizationSearchParams(\n",
    "        ignore=False,\n",
    "        rescore=True,\n",
    "        oversampling=2.0,\n",
    "      )\n",
    "    )\n",
    "  )\n",
    "\n",
    "\n",
    "def query(question, top_k=5):\n",
    "  collections_names = list(map(lambda x: x.name, qdrant.get_collections().collections))\n",
    "  \n",
    "  if 'questions-binaryq' not in collections_names:\n",
    "    return {}, {}\n",
    "\n",
    "  start_time = time.time()\n",
    "  emb = compute_embedding(question, encoder)\n",
    "  encoding_time = time.time() - start_time\n",
    "\n",
    "  start_time = time.time()\n",
    "  bq_results = quantized_vector_search(emb, top_k)\n",
    "  bq_query_time = time.time() - start_time\n",
    "\n",
    "  bq_results_dict = {}\n",
    "  for bq_result in bq_results:\n",
    "    bq_results_dict[bq_result.payload['question']] = round(bq_result.score, 3)\n",
    "\n",
    "  return bq_results_dict, {\n",
    "    \"encoding-time\": round(encoding_time, 3),\n",
    "    \"binary-quantization-query-time\": round(bq_query_time, 3),\n",
    "  }\n",
    "\n",
    "\n",
    "with gr.Blocks() as semantic_search_demo:\n",
    "  gr.Markdown(\n",
    "    \"\"\"\n",
    "    # Quora Similar Questions Finder using Semantic Search 🔍\n",
    "    Welcome to the Quora Similar Questions Finder, a tool designed to enhance search experience.\n",
    "    This space leverages advanced machine learning techniques to find the most relevant questions from {} questions based on your input.\n",
    "    ## Features\n",
    "    - **Dataset**: Utilizes the Quora duplicate questions dataset from Hugging Face `datasets`, ensuring a wide coverage of topics and queries.\n",
    "    - **Advanced NLP Model**: Employs SentenceTransformer's [`BAAI/bge-small-en-v1.5`](https://huggingface.co/BAAI/bge-small-en-v1.5) model to create embeddings for each unique question. This model supports a maximum sequence length of 512 and provides an embedding dimension of 384, allowing for semantic understanding of questions.\n",
    "    - **Efficient Storage**: Embeddings are efficiently stored in a vector index on `Qdrant` cloud, uploaded in batches of size 200.\n",
    "    ## How to Use\n",
    "    1. **Enter a Question**: Simply type in your question.\n",
    "    2. **Select K Value (1-8)**: Choose how many similar questions you want to find.\n",
    "    3. **Find Similar Questions**: Hit the button and the system will generate an embedding for your input question. It then performs a cosine distance query to the Qdrant cloud to retrieve the most similar questions based on your specified K value.\n",
    "    Experience the power of semantic search and find the answers you need more efficiently.\n",
    "    \"\"\".format(qdrant.get_collection('questions-binaryq').vectors_count)\n",
    "  )\n",
    "\n",
    "  with gr.Row():\n",
    "\n",
    "    with gr.Column(scale=4):\n",
    "      bq_results = gr.Label(\n",
    "        label=\"Most similar questions w/ Binary Quantization\",\n",
    "        value={}\n",
    "      )\n",
    "    \n",
    "    with gr.Column(scale=1):\n",
    "      input_question = gr.Textbox(\n",
    "        label=\"Question\", \n",
    "        placeholder=\"Enter your question here\"\n",
    "      )\n",
    "      top_k_slider = gr.Slider(\n",
    "        value=3, \n",
    "        minimum=1, \n",
    "        maximum=30, \n",
    "        label=\"Top K\", \n",
    "        interactive=True, \n",
    "        step=1\n",
    "      )\n",
    "      button = gr.Button(\"Find similar questions\")\n",
    "      json = gr.JSON()\n",
    "      gr.Examples(\n",
    "        examples=[[\"Obama\", 3]],\n",
    "        inputs=[input_question, top_k_slider]\n",
    "      )\n",
    "\n",
    "  button.click(\n",
    "    fn=query, \n",
    "    inputs=[\n",
    "      input_question, \n",
    "      top_k_slider\n",
    "    ], \n",
    "    outputs=[\n",
    "      bq_results, \n",
    "      json\n",
    "    ]\n",
    "  )\n",
    "\n",
    "\n",
    "semantic_search_demo.launch(share=True)"
   ]
  }
 ],
 "metadata": {
  "language_info": {
   "name": "python"
  }
 },
 "nbformat": 4,
 "nbformat_minor": 2
}
