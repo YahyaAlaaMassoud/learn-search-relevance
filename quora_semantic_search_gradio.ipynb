{
  "nbformat": 4,
  "nbformat_minor": 0,
  "metadata": {
    "colab": {
      "provenance": [],
      "authorship_tag": "ABX9TyN7LnYmrxjZF2m3SANwgvey",
      "include_colab_link": true
    },
    "kernelspec": {
      "name": "python3",
      "display_name": "Python 3"
    },
    "language_info": {
      "name": "python"
    }
  },
  "cells": [
    {
      "cell_type": "markdown",
      "metadata": {
        "id": "view-in-github",
        "colab_type": "text"
      },
      "source": [
        "<a href=\"https://colab.research.google.com/github/YahyaAlaaMassoud/learn-search-relevance/blob/main/quora_semantic_search_gradio.ipynb\" target=\"_parent\"><img src=\"https://colab.research.google.com/assets/colab-badge.svg\" alt=\"Open In Colab\"/></a>"
      ]
    },
    {
      "cell_type": "code",
      "source": [
        "import warnings\n",
        "warnings.filterwarnings('ignore')"
      ],
      "metadata": {
        "id": "svNrZAGvEeiM"
      },
      "execution_count": 1,
      "outputs": []
    },
    {
      "cell_type": "markdown",
      "source": [
        "Creating requirments.txt file and writing the needed dependencies, then installing them."
      ],
      "metadata": {
        "id": "cd4VfMf5AuUU"
      }
    },
    {
      "cell_type": "code",
      "execution_count": 2,
      "metadata": {
        "colab": {
          "base_uri": "https://localhost:8080/"
        },
        "id": "mLTFSaVH-hLo",
        "outputId": "e6799ba6-187d-40b6-884d-b93a1fb6c4b7"
      },
      "outputs": [
        {
          "output_type": "stream",
          "name": "stdout",
          "text": [
            "Writing requirments.txt\n"
          ]
        }
      ],
      "source": [
        "%%writefile requirments.txt\n",
        "datasets\n",
        "gradio\n",
        "qdrant-client\n",
        "sentence-transformers"
      ]
    },
    {
      "cell_type": "code",
      "source": [
        "!echo \"Requirments Are:\" && cat requirments.txt && echo \"-----\"\n",
        "\n",
        "!pip install -r requirments.txt"
      ],
      "metadata": {
        "id": "6ol4WgdaApRI"
      },
      "execution_count": null,
      "outputs": []
    },
    {
      "cell_type": "code",
      "source": [
        "%load_ext gradio"
      ],
      "metadata": {
        "id": "64uTknKMwVrZ"
      },
      "execution_count": 4,
      "outputs": []
    },
    {
      "cell_type": "code",
      "source": [
        "import gradio as gr\n",
        "import numpy as np\n",
        "\n",
        "from datasets import load_dataset\n",
        "from sentence_transformers import SentenceTransformer\n",
        "from qdrant_client import QdrantClient, models\n",
        "\n",
        "\n",
        "qdrant = QdrantClient(':memory:') # create in-mem instance of vector db\n",
        "encoder = SentenceTransformer(model_name_or_path='all-MiniLM-L12-v2')\n",
        "\n",
        "\n",
        "def compute_embedding(sentences, emb_model):\n",
        "  return emb_model.encode(sentences=sentences)\n",
        "\n",
        "\n",
        "def get_questions(ds):\n",
        "    questions = ds['questions']\n",
        "    questions_text = set()\n",
        "    for q in questions:\n",
        "      for q_text in q['text']:\n",
        "        questions_text.add(q_text)\n",
        "    unique_questions = list(questions_text)\n",
        "    return [{'question': q} for q in unique_questions]\n",
        "\n",
        "\n",
        "def build_index():\n",
        "  split_range = '[0:100]'\n",
        "  split = 'train{}'.format(split_range)\n",
        "  quora_ds = load_dataset(path='quora', split=split)\n",
        "  quora_questions = get_questions(ds=quora_ds)\n",
        "\n",
        "  qdrant.recreate_collection(\n",
        "      collection_name='questions',\n",
        "      vectors_config=models.VectorParams(\n",
        "          size=encoder.get_sentence_embedding_dimension(),\n",
        "          distance=models.Distance.COSINE\n",
        "      )\n",
        "  )\n",
        "\n",
        "  qdrant.upload_records(\n",
        "      collection_name='questions',\n",
        "      records=[\n",
        "          models.Record(\n",
        "              id=idx,\n",
        "              payload=entry,\n",
        "              vector=compute_embedding(entry['question'], encoder).tolist()\n",
        "          ) for idx, entry in enumerate(quora_questions)\n",
        "      ]\n",
        "  )\n",
        "\n",
        "\n",
        "def query(question, top_k=5):\n",
        "  results = qdrant.search(\n",
        "    collection_name='questions',\n",
        "    query_vector=compute_embedding(question, encoder),\n",
        "    limit=top_k\n",
        "  ) # search for top K questions in the quora questions DB similar to the new question\n",
        "  results_dict = {}\n",
        "  for result in results:\n",
        "    results_dict[result.payload['question']] = round(result.score, 3)\n",
        "  print(results_dict)\n",
        "  return results_dict\n",
        "\n",
        "\n",
        "with gr.Blocks() as demo:\n",
        "  gr.Markdown(\"Semantic search for similar questions from Quora\")\n",
        "  inp = gr.Textbox(label=\"Question\", placeholder=\"Enter your question here\")\n",
        "  slider = gr.Slider(value=3, minimum=1, maximum=8, label=\"Top K\", interactive=True, step=1)\n",
        "  btn = gr.Button(\"Find similar questions\")\n",
        "  lbl = gr.Label(label=\"Most similar questions\", value={})\n",
        "  btn.click(fn=query, inputs=[inp, slider], outputs=[lbl])\n",
        "  gr.Examples(examples=[[\"Obama\", 3]], inputs=[inp, slider])\n",
        "\n",
        "\n",
        "build_index()\n",
        "demo.launch(share=True)"
      ],
      "metadata": {
        "colab": {
          "base_uri": "https://localhost:8080/",
          "height": 591
        },
        "id": "PUj3KpzBwQof",
        "outputId": "247e9faf-41d3-43da-82c9-a007e3e0ef47"
      },
      "execution_count": 55,
      "outputs": [
        {
          "output_type": "stream",
          "name": "stdout",
          "text": [
            "Colab notebook detected. To show errors in colab notebook, set debug=True in launch()\n",
            "Running on public URL: https://b2be740db9dff26de7.gradio.live\n",
            "\n",
            "This share link expires in 72 hours. For free permanent hosting and GPU upgrades, run `gradio deploy` from Terminal to deploy to Spaces (https://huggingface.co/spaces)\n"
          ]
        },
        {
          "output_type": "display_data",
          "data": {
            "text/plain": [
              "<IPython.core.display.HTML object>"
            ],
            "text/html": [
              "<div><iframe src=\"https://b2be740db9dff26de7.gradio.live\" width=\"100%\" height=\"500\" allow=\"autoplay; camera; microphone; clipboard-read; clipboard-write;\" frameborder=\"0\" allowfullscreen></iframe></div>"
            ]
          },
          "metadata": {}
        },
        {
          "output_type": "execute_result",
          "data": {
            "text/plain": []
          },
          "metadata": {},
          "execution_count": 55
        }
      ]
    }
  ]
}