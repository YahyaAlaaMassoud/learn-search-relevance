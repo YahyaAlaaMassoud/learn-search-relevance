{
  "nbformat": 4,
  "nbformat_minor": 0,
  "metadata": {
    "colab": {
      "provenance": [],
      "authorship_tag": "ABX9TyNRDqhI4v2K3jOuTSz1pWol",
      "include_colab_link": true
    },
    "kernelspec": {
      "name": "python3",
      "display_name": "Python 3"
    },
    "language_info": {
      "name": "python"
    }
  },
  "cells": [
    {
      "cell_type": "markdown",
      "metadata": {
        "id": "view-in-github",
        "colab_type": "text"
      },
      "source": [
        "<a href=\"https://colab.research.google.com/github/YahyaAlaaMassoud/learn-search-relevance/blob/main/quora_semantic_search_gradio.ipynb\" target=\"_parent\"><img src=\"https://colab.research.google.com/assets/colab-badge.svg\" alt=\"Open In Colab\"/></a>"
      ]
    },
    {
      "cell_type": "code",
      "source": [
        "import warnings\n",
        "warnings.filterwarnings('ignore')"
      ],
      "metadata": {
        "id": "svNrZAGvEeiM"
      },
      "execution_count": 1,
      "outputs": []
    },
    {
      "cell_type": "markdown",
      "source": [
        "Creating requirments.txt file and writing the needed dependencies, then installing them."
      ],
      "metadata": {
        "id": "cd4VfMf5AuUU"
      }
    },
    {
      "cell_type": "code",
      "execution_count": 2,
      "metadata": {
        "colab": {
          "base_uri": "https://localhost:8080/"
        },
        "id": "mLTFSaVH-hLo",
        "outputId": "e6799ba6-187d-40b6-884d-b93a1fb6c4b7"
      },
      "outputs": [
        {
          "output_type": "stream",
          "name": "stdout",
          "text": [
            "Writing requirments.txt\n"
          ]
        }
      ],
      "source": [
        "%%writefile requirments.txt\n",
        "datasets\n",
        "gradio\n",
        "qdrant-client\n",
        "sentence-transformers"
      ]
    },
    {
      "cell_type": "code",
      "source": [
        "!echo \"Requirments Are:\" && cat requirments.txt && echo \"-----\"\n",
        "\n",
        "!pip install -r requirments.txt"
      ],
      "metadata": {
        "id": "6ol4WgdaApRI"
      },
      "execution_count": null,
      "outputs": []
    },
    {
      "cell_type": "code",
      "source": [
        "%load_ext gradio"
      ],
      "metadata": {
        "id": "64uTknKMwVrZ"
      },
      "execution_count": 4,
      "outputs": []
    },
    {
      "cell_type": "code",
      "source": [
        "import gradio as gr\n",
        "import numpy as np\n",
        "\n",
        "from datasets import load_dataset\n",
        "from sentence_transformers import SentenceTransformer\n",
        "from qdrant_client import QdrantClient, models\n",
        "\n",
        "\n",
        "qdrant = QdrantClient(':memory:') # create in-mem instance of vector db\n",
        "encoder = SentenceTransformer(model_name_or_path='all-MiniLM-L12-v2')\n",
        "MAX_QUESTIONS = 50\n",
        "\n",
        "\n",
        "def compute_embedding(sentences, emb_model):\n",
        "  return emb_model.encode(sentences=sentences)\n",
        "\n",
        "\n",
        "def get_questions(ds):\n",
        "  questions_text = set()\n",
        "  for i, item in enumerate(ds):\n",
        "    if i == MAX_QUESTIONS:\n",
        "      break\n",
        "    for q_text in item['questions']['text']:\n",
        "      questions_text.add(q_text)\n",
        "  unique_questions = list(questions_text)\n",
        "  return [{'question': q} for q in unique_questions]\n",
        "\n",
        "\n",
        "def build_index():\n",
        "  quora_ds = load_dataset(path='quora', split='train', streaming=True)\n",
        "  quora_questions = get_questions(ds=quora_ds)\n",
        "\n",
        "  qdrant.recreate_collection(\n",
        "      collection_name='questions',\n",
        "      vectors_config=models.VectorParams(\n",
        "          size=encoder.get_sentence_embedding_dimension(),\n",
        "          distance=models.Distance.COSINE\n",
        "      )\n",
        "  )\n",
        "\n",
        "  qdrant.upload_records(\n",
        "      collection_name='questions',\n",
        "      records=[\n",
        "          models.Record(\n",
        "              id=idx,\n",
        "              payload=entry,\n",
        "              vector=compute_embedding(entry['question'], encoder).tolist()\n",
        "          ) for idx, entry in enumerate(quora_questions)\n",
        "      ]\n",
        "  )\n",
        "\n",
        "\n",
        "def query(question, top_k=5):\n",
        "  results = qdrant.search(\n",
        "    collection_name='questions',\n",
        "    query_vector=compute_embedding(question, encoder),\n",
        "    limit=top_k\n",
        "  ) # search for top K questions in the quora questions DB similar to the new question\n",
        "  results_dict = {}\n",
        "  for result in results:\n",
        "    results_dict[result.payload['question']] = round(result.score, 3)\n",
        "  return results_dict\n",
        "\n",
        "\n",
        "with gr.Blocks() as demo:\n",
        "  build_index()\n",
        "  gr.Markdown(\"Semantic search for similar questions from Quora\")\n",
        "  inp = gr.Textbox(label=\"Question\", placeholder=\"Enter your question here\")\n",
        "  slider = gr.Slider(value=3, minimum=1, maximum=8, label=\"Top K\", interactive=True, step=1)\n",
        "  btn = gr.Button(\"Find similar questions\")\n",
        "  lbl = gr.Label(label=\"Most similar questions\", value={})\n",
        "  btn.click(fn=query, inputs=[inp, slider], outputs=[lbl])\n",
        "  gr.Examples(examples=[[\"Obama\", 3]], inputs=[inp, slider])\n",
        "\n",
        "\n",
        "demo.launch(share=True)"
      ],
      "metadata": {
        "colab": {
          "base_uri": "https://localhost:8080/",
          "height": 715
        },
        "id": "PUj3KpzBwQof",
        "outputId": "47e4ffb0-561e-46a3-c48d-5f75f5806e0f"
      },
      "execution_count": 59,
      "outputs": [
        {
          "output_type": "stream",
          "name": "stdout",
          "text": [
            "[{'question': 'Does society place too much importance on sports?'}, {'question': 'What Game of Thrones villain would be the most likely to give you mercy?'}, {'question': 'Is being a good kid and not being a rebel worth it in the long run?'}, {'question': \"What's one thing you would like to do better?\"}, {'question': 'When can I expect Cognizant confirmation mail?'}, {'question': 'What does manipulation mean?'}, {'question': 'What are some of the things technicians can tell about the durability and reliability of Laptops and its components?'}, {'question': 'Is being bored good for a kid?'}, {'question': 'What are the questions should not ask on Quora?'}, {'question': 'What is best way to ask for money online?'}, {'question': 'Why did aircraft stop using variable-sweep wings, like those on an F-14?'}, {'question': 'Should I buy tiago?'}, {'question': 'How do I prepare for civil service?'}, {'question': 'What keeps childern active and far from phone and video games?'}, {'question': 'How do guys feel after rejecting a girl?'}, {'question': 'Which fish would survive in salt water?'}, {'question': 'Why do rockets look white?'}, {'question': 'How to make friends ?'}, {'question': 'How can we increase our number of Instagram followers?'}, {'question': 'What are the laws to change your status from a student visa to a green card in the US? How do they compare to the immigration laws in Japan?'}, {'question': 'What is the step by step guide to invest in share market in india?'}, {'question': 'How much is 30 kV in HP?'}, {'question': 'Why do Slavs squat?'}, {'question': 'What can I do to avoid being jealous of someone?'}, {'question': 'Which one dissolve in water quikly sugar, salt, methane and carbon di oxide?'}, {'question': 'Why do people ask Quora questions which can be answered easily by Google?'}, {'question': 'How should I prepare for CA final law?'}, {'question': 'Has there been a gun control initiative to take away guns people already own?'}, {'question': 'Where can I find a conversion chart for CC to horsepower?'}, {'question': 'What is the best travel website?'}, {'question': 'Why do some people think Obama will try to take their guns away?'}, {'question': 'Which is the best digital marketing institute in Pune?'}, {'question': 'How do I read and find my YouTube comments?'}, {'question': 'Astrology: I am a Capricorn Sun Cap moon and cap rising...what does that say about me?'}, {'question': 'What are some tips on making it through the job interview process at Foundation Medicine?'}, {'question': 'I am a 19 year old guy. How can I become a billionaire in the next 10 years?'}, {'question': 'Which question should I ask on Quora?'}, {'question': 'When can I expect my Cognizant confirmation mail?'}, {'question': 'What was your first sexual experience?'}, {'question': 'How many times a day do a clock’s hands overlap?'}, {'question': 'What should I do to be a great geologist?'}, {'question': 'Can I make 30,000 a month by day trading?'}, {'question': 'What would a Trump presidency mean for current international master’s students on an F1 visa?'}, {'question': 'Does Quora have a character limit for profile descriptions?'}, {'question': 'What would happen if the Indian government stole the Kohinoor (Koh-i-Noor) diamond back?'}, {'question': 'Why are rockets and boosters painted white?'}, {'question': 'Which is the best digital marketing institution in banglore?'}, {'question': 'How do I hack Motorola DCX3400 for free internet?'}, {'question': 'How can I be a good geologist?'}, {'question': 'Why am I mentally very lonely? How can I solve it?'}, {'question': 'How did Darth Vader fought Darth Maul in Star Wars Legends?'}, {'question': 'When a girlfriend asks her boyfriend \"Why did you choose me? What makes you want to be with me?\", what should one reply to her?'}, {'question': 'Does the United States government still blacklist (employment, etc.) some United States citizens because their political views?'}, {'question': 'What are the laws to change your status from a student visa to a green card in the US, how do they compare to the immigration laws in Canada?'}, {'question': \"What's causing someone to be jealous?\"}, {'question': 'How will a Trump presidency affect the students presently in US or planning to study in US?'}, {'question': 'What was your first sexual experience like?'}, {'question': 'What is the step by step guide to invest in share market?'}, {'question': 'How is the average speed of gas molecules determined?'}, {'question': 'What is best way to make money online?'}, {'question': 'Motorola (company): Can I hack my Charter Motorolla DCX3400?'}, {'question': \"I'm a 19-year-old. How can I improve my skills or what should I do to become an entrepreneur in the next few years?\"}, {'question': 'What is the best travel website in spain?'}, {'question': \"I'm a triple Capricorn (Sun, Moon and ascendant in Capricorn) What does this say about me?\"}, {'question': 'What are some tips on making it through the job interview process at Medicines?'}, {'question': 'Find the remainder when [math]23^{24}[/math] is divided by 24,23?'}, {'question': 'Who is affected more by a breakup, the boy or the girl?'}, {'question': 'What are the stages of breaking up between couple? I mean, what happens after the breaking up emotionally whether its a male or female?'}, {'question': 'Will squats make my legs thicker?'}, {'question': 'Can I make 50,000 a month by day trading?'}, {'question': 'How do sports contribute to the society?'}, {'question': 'When do you use シ instead of し?'}, {'question': 'How can Internet speed be increased by hacking through DNS?'}, {'question': 'How do I make friends.'}, {'question': 'How can you make physics easy to learn?'}, {'question': 'What is web application?'}, {'question': 'What is the quickest way to increase Instagram followers?'}, {'question': 'How one should know that he/she completely prepare for CA final exam?'}, {'question': 'When do you use \"&\" instead of \"and\"?'}, {'question': 'What does it mean that every time I look at the clock the numbers are the same?'}, {'question': 'What are some special cares for someone with a nose that gets stuffy during the night?'}, {'question': 'How can I see all my Youtube comments?'}, {'question': \"What's one thing you do despite knowing better?\"}, {'question': 'Why do girls want to be friends with the guy they reject?'}, {'question': 'How can I increase the speed of my internet connection while using a VPN?'}, {'question': 'What universities does Rexnord recruit new grads from? What majors are they looking for?'}, {'question': 'Method to find separation of slits using fresnel biprism?'}, {'question': 'How can I keep my nose from getting stuffy at night?'}, {'question': 'What universities does B&G Foods recruit new grads from? What majors are they looking for?'}, {'question': 'What can make Physics easy to learn?'}, {'question': 'Why are so many Quora users posting questions that are readily answered on Google?'}, {'question': 'What does manipulation means?'}, {'question': 'What is the web application framework?'}, {'question': 'How do we prepare for UPSC?'}, {'question': 'What is the story of Kohinoor (Koh-i-Noor) Diamond?'}, {'question': 'My girlfriend said that we should end this because she is confused about her feelings for me. I wished her well and disconnected. Should I call her and ask her if she wants to get back together?'}, {'question': 'What are some examples of products that can be make from crude oil?'}, {'question': 'What is the stall speed and AOA of an f-14 with wings fully swept back?'}, {'question': 'What are some of the products made from crude oil?'}, {'question': 'What Game of Thrones villain would you most like to be at the mercy of?'}]\n",
            "Colab notebook detected. This cell will run indefinitely so that you can see errors and logs. To turn off, set debug=False in launch().\n",
            "Running on public URL: https://5926a17fc203002ba2.gradio.live\n",
            "\n",
            "This share link expires in 72 hours. For free permanent hosting and GPU upgrades, run `gradio deploy` from Terminal to deploy to Spaces (https://huggingface.co/spaces)\n"
          ]
        },
        {
          "output_type": "display_data",
          "data": {
            "text/plain": [
              "<IPython.core.display.HTML object>"
            ],
            "text/html": [
              "<div><iframe src=\"https://5926a17fc203002ba2.gradio.live\" width=\"100%\" height=\"500\" allow=\"autoplay; camera; microphone; clipboard-read; clipboard-write;\" frameborder=\"0\" allowfullscreen></iframe></div>"
            ]
          },
          "metadata": {}
        },
        {
          "output_type": "stream",
          "name": "stdout",
          "text": [
            "{'Why do some people think Obama will try to take their guns away?': 0.434, 'How will a Trump presidency affect the students presently in US or planning to study in US?': 0.268, 'What would a Trump presidency mean for current international master’s students on an F1 visa?': 0.243}\n",
            "Keyboard interruption in main thread... closing server.\n",
            "Killing tunnel 127.0.0.1:7889 <> https://b2be740db9dff26de7.gradio.live\n",
            "Killing tunnel 127.0.0.1:7890 <> https://bdec58295c455f70a5.gradio.live\n",
            "Killing tunnel 127.0.0.1:7891 <> https://5926a17fc203002ba2.gradio.live\n"
          ]
        },
        {
          "output_type": "execute_result",
          "data": {
            "text/plain": []
          },
          "metadata": {},
          "execution_count": 59
        }
      ]
    }
  ]
}